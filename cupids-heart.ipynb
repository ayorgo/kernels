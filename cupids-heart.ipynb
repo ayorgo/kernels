{
 "cells": [
  {
   "cell_type": "code",
   "execution_count": 1,
   "metadata": {},
   "outputs": [
    {
     "data": {
      "text/html": [
       "<link rel=\"stylesheet\" href=\"custom.css\"/>\n"
      ],
      "text/plain": [
       "<IPython.core.display.HTML object>"
      ]
     },
     "metadata": {},
     "output_type": "display_data"
    }
   ],
   "source": [
    "%%html\n",
    "<link rel=\"stylesheet\" href=\"custom.css\"/>"
   ]
  },
  {
   "cell_type": "code",
   "execution_count": 2,
   "metadata": {},
   "outputs": [],
   "source": [
    "import pandas as pd\n",
    "import numpy as np\n",
    "import matplotlib.pyplot as plt"
   ]
  },
  {
   "cell_type": "code",
   "execution_count": 3,
   "metadata": {},
   "outputs": [],
   "source": [
    "group1 = np.array([[0.067, 0.210], [0.092, 0.210], [0.294, 0.445],\n",
    "                   [0.227, 0.521], [0.185, 0.597], [0.185, 0.689],\n",
    "                   [0.235, 0.748], [0.319, 0.773], [0.387, 0.739],\n",
    "                   [0.437, 0.672], [0.496, 0.739], [0.571, 0.773],\n",
    "                   [0.639, 0.765], [0.765, 0.924], [0.807, 0.933],\n",
    "                   [0.849, 0.941]])\n",
    "group2 = np.array([[0.118, 0.143], [0.118, 0.176], [0.345, 0.378],\n",
    "                   [0.395, 0.319], [0.437, 0.261], [0.496, 0.328],\n",
    "                   [0.546, 0.395], [0.605, 0.462], [0.655, 0.529],\n",
    "                   [0.697, 0.597], [0.706, 0.664], [0.681, 0.723],\n",
    "                   [0.849, 0.798], [0.857, 0.849], [0.866, 0.899]])"
   ]
  },
  {
   "cell_type": "code",
   "execution_count": 4,
   "metadata": {},
   "outputs": [
    {
     "data": {
      "image/png": "[encoded data removed]",
      "text/plain": [
       "<Figure size 432x288 with 1 Axes>"
      ]
     },
     "metadata": {
      "needs_background": "light"
     },
     "output_type": "display_data"
    }
   ],
   "source": [
    "plt.scatter(group1[:,0], group1[:,1])\n",
    "plt.scatter(group2[:,0], group2[:,1]);"
   ]
  },
  {
   "cell_type": "code",
   "execution_count": 5,
   "metadata": {},
   "outputs": [],
   "source": [
    "from sklearn.linear_model import LogisticRegression\n",
    "\n",
    "X = np.concatenate([group1, group2])\n",
    "y = np.repeat([0, 1], [len(group1), len(group2)])\n",
    "lr = LogisticRegression(C=1_000, solver='lbfgs').fit(X, y)"
   ]
  },
  {
   "cell_type": "code",
   "execution_count": 6,
   "metadata": {},
   "outputs": [
    {
     "data": {
      "image/png": "[encoded data removed]",
      "text/plain": [
       "<Figure size 432x288 with 1 Axes>"
      ]
     },
     "metadata": {
      "needs_background": "light"
     },
     "output_type": "display_data"
    }
   ],
   "source": [
    "w = lr.coef_[0]\n",
    "beta = -w[0]/w[1]\n",
    "bias = -lr.intercept_/w[1]\n",
    "\n",
    "xx = np.array([np.min(X[:,0]), np.max(X[:,0])])\n",
    "yy = beta*xx + bias\n",
    "\n",
    "plt.scatter(group1[:,0], group1[:,1])\n",
    "plt.scatter(group2[:,0], group2[:,1])\n",
    "plt.plot(xx, yy, 'r');"
   ]
  },
  {
   "cell_type": "code",
   "execution_count": 7,
   "metadata": {},
   "outputs": [
    {
     "data": {
      "text/plain": [
       "(0.9676757830051427, 0.09376191001263944)"
      ]
     },
     "execution_count": 7,
     "metadata": {},
     "output_type": "execute_result"
    }
   ],
   "source": [
    "beta, bias[0]"
   ]
  },
  {
   "cell_type": "markdown",
   "metadata": {},
   "source": [
    "Hence, the equation for the linear separator is $$y = 0.9677 x + 0.0938$$"
   ]
  },
  {
   "cell_type": "code",
   "execution_count": null,
   "metadata": {},
   "outputs": [],
   "source": []
  }
 ],
 "metadata": {
  "kernelspec": {
   "display_name": "Python 3",
   "language": "python",
   "name": "python3"
  },
  "language_info": {
   "codemirror_mode": {
    "name": "ipython",
    "version": 3
   },
   "file_extension": ".py",
   "mimetype": "text/x-python",
   "name": "python",
   "nbconvert_exporter": "python",
   "pygments_lexer": "ipython3",
   "version": "3.7.3"
  }
 },
 "nbformat": 4,
 "nbformat_minor": 2
}
